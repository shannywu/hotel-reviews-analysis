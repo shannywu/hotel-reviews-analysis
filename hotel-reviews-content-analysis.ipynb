{
 "cells": [
  {
   "cell_type": "markdown",
   "metadata": {},
   "source": [
    "## Load Data"
   ]
  },
  {
   "cell_type": "code",
   "execution_count": 1,
   "metadata": {},
   "outputs": [],
   "source": [
    "import pandas as pd"
   ]
  },
  {
   "cell_type": "code",
   "execution_count": 2,
   "metadata": {
    "scrolled": true
   },
   "outputs": [
    {
     "data": {
      "text/html": [
       "<div>\n",
       "<style scoped>\n",
       "    .dataframe tbody tr th:only-of-type {\n",
       "        vertical-align: middle;\n",
       "    }\n",
       "\n",
       "    .dataframe tbody tr th {\n",
       "        vertical-align: top;\n",
       "    }\n",
       "\n",
       "    .dataframe thead th {\n",
       "        text-align: right;\n",
       "    }\n",
       "</style>\n",
       "<table border=\"1\" class=\"dataframe\">\n",
       "  <thead>\n",
       "    <tr style=\"text-align: right;\">\n",
       "      <th></th>\n",
       "      <th>Hotel_Address</th>\n",
       "      <th>Additional_Number_of_Scoring</th>\n",
       "      <th>Review_Date</th>\n",
       "      <th>Average_Score</th>\n",
       "      <th>Hotel_Name</th>\n",
       "      <th>Reviewer_Nationality</th>\n",
       "      <th>Negative_Review</th>\n",
       "      <th>Review_Total_Negative_Word_Counts</th>\n",
       "      <th>Total_Number_of_Reviews</th>\n",
       "      <th>Positive_Review</th>\n",
       "      <th>Review_Total_Positive_Word_Counts</th>\n",
       "      <th>Total_Number_of_Reviews_Reviewer_Has_Given</th>\n",
       "      <th>Reviewer_Score</th>\n",
       "      <th>Tags</th>\n",
       "      <th>days_since_review</th>\n",
       "      <th>lat</th>\n",
       "      <th>lng</th>\n",
       "    </tr>\n",
       "  </thead>\n",
       "  <tbody>\n",
       "    <tr>\n",
       "      <th>0</th>\n",
       "      <td>s Gravesandestraat 55 Oost 1092 AA Amsterdam ...</td>\n",
       "      <td>194</td>\n",
       "      <td>8/3/2017</td>\n",
       "      <td>7.7</td>\n",
       "      <td>Hotel Arena</td>\n",
       "      <td>Russia</td>\n",
       "      <td>I am so angry that i made this post available...</td>\n",
       "      <td>397</td>\n",
       "      <td>1403</td>\n",
       "      <td>Only the park outside of the hotel was beauti...</td>\n",
       "      <td>11</td>\n",
       "      <td>7</td>\n",
       "      <td>2.9</td>\n",
       "      <td>[' Leisure trip ', ' Couple ', ' Duplex Double...</td>\n",
       "      <td>0 days</td>\n",
       "      <td>52.360576</td>\n",
       "      <td>4.915968</td>\n",
       "    </tr>\n",
       "    <tr>\n",
       "      <th>1</th>\n",
       "      <td>s Gravesandestraat 55 Oost 1092 AA Amsterdam ...</td>\n",
       "      <td>194</td>\n",
       "      <td>8/3/2017</td>\n",
       "      <td>7.7</td>\n",
       "      <td>Hotel Arena</td>\n",
       "      <td>Ireland</td>\n",
       "      <td>No Negative</td>\n",
       "      <td>0</td>\n",
       "      <td>1403</td>\n",
       "      <td>No real complaints the hotel was great great ...</td>\n",
       "      <td>105</td>\n",
       "      <td>7</td>\n",
       "      <td>7.5</td>\n",
       "      <td>[' Leisure trip ', ' Couple ', ' Duplex Double...</td>\n",
       "      <td>0 days</td>\n",
       "      <td>52.360576</td>\n",
       "      <td>4.915968</td>\n",
       "    </tr>\n",
       "    <tr>\n",
       "      <th>2</th>\n",
       "      <td>s Gravesandestraat 55 Oost 1092 AA Amsterdam ...</td>\n",
       "      <td>194</td>\n",
       "      <td>7/31/2017</td>\n",
       "      <td>7.7</td>\n",
       "      <td>Hotel Arena</td>\n",
       "      <td>Australia</td>\n",
       "      <td>Rooms are nice but for elderly a bit difficul...</td>\n",
       "      <td>42</td>\n",
       "      <td>1403</td>\n",
       "      <td>Location was good and staff were ok It is cut...</td>\n",
       "      <td>21</td>\n",
       "      <td>9</td>\n",
       "      <td>7.1</td>\n",
       "      <td>[' Leisure trip ', ' Family with young childre...</td>\n",
       "      <td>3 days</td>\n",
       "      <td>52.360576</td>\n",
       "      <td>4.915968</td>\n",
       "    </tr>\n",
       "    <tr>\n",
       "      <th>3</th>\n",
       "      <td>s Gravesandestraat 55 Oost 1092 AA Amsterdam ...</td>\n",
       "      <td>194</td>\n",
       "      <td>7/31/2017</td>\n",
       "      <td>7.7</td>\n",
       "      <td>Hotel Arena</td>\n",
       "      <td>United Kingdom</td>\n",
       "      <td>My room was dirty and I was afraid to walk ba...</td>\n",
       "      <td>210</td>\n",
       "      <td>1403</td>\n",
       "      <td>Great location in nice surroundings the bar a...</td>\n",
       "      <td>26</td>\n",
       "      <td>1</td>\n",
       "      <td>3.8</td>\n",
       "      <td>[' Leisure trip ', ' Solo traveler ', ' Duplex...</td>\n",
       "      <td>3 days</td>\n",
       "      <td>52.360576</td>\n",
       "      <td>4.915968</td>\n",
       "    </tr>\n",
       "    <tr>\n",
       "      <th>4</th>\n",
       "      <td>s Gravesandestraat 55 Oost 1092 AA Amsterdam ...</td>\n",
       "      <td>194</td>\n",
       "      <td>7/24/2017</td>\n",
       "      <td>7.7</td>\n",
       "      <td>Hotel Arena</td>\n",
       "      <td>New Zealand</td>\n",
       "      <td>You When I booked with your company on line y...</td>\n",
       "      <td>140</td>\n",
       "      <td>1403</td>\n",
       "      <td>Amazing location and building Romantic setting</td>\n",
       "      <td>8</td>\n",
       "      <td>3</td>\n",
       "      <td>6.7</td>\n",
       "      <td>[' Leisure trip ', ' Couple ', ' Suite ', ' St...</td>\n",
       "      <td>10 days</td>\n",
       "      <td>52.360576</td>\n",
       "      <td>4.915968</td>\n",
       "    </tr>\n",
       "  </tbody>\n",
       "</table>\n",
       "</div>"
      ],
      "text/plain": [
       "                                       Hotel_Address  \\\n",
       "0   s Gravesandestraat 55 Oost 1092 AA Amsterdam ...   \n",
       "1   s Gravesandestraat 55 Oost 1092 AA Amsterdam ...   \n",
       "2   s Gravesandestraat 55 Oost 1092 AA Amsterdam ...   \n",
       "3   s Gravesandestraat 55 Oost 1092 AA Amsterdam ...   \n",
       "4   s Gravesandestraat 55 Oost 1092 AA Amsterdam ...   \n",
       "\n",
       "   Additional_Number_of_Scoring Review_Date  Average_Score   Hotel_Name  \\\n",
       "0                           194    8/3/2017            7.7  Hotel Arena   \n",
       "1                           194    8/3/2017            7.7  Hotel Arena   \n",
       "2                           194   7/31/2017            7.7  Hotel Arena   \n",
       "3                           194   7/31/2017            7.7  Hotel Arena   \n",
       "4                           194   7/24/2017            7.7  Hotel Arena   \n",
       "\n",
       "  Reviewer_Nationality                                    Negative_Review  \\\n",
       "0              Russia    I am so angry that i made this post available...   \n",
       "1             Ireland                                         No Negative   \n",
       "2           Australia    Rooms are nice but for elderly a bit difficul...   \n",
       "3      United Kingdom    My room was dirty and I was afraid to walk ba...   \n",
       "4         New Zealand    You When I booked with your company on line y...   \n",
       "\n",
       "   Review_Total_Negative_Word_Counts  Total_Number_of_Reviews  \\\n",
       "0                                397                     1403   \n",
       "1                                  0                     1403   \n",
       "2                                 42                     1403   \n",
       "3                                210                     1403   \n",
       "4                                140                     1403   \n",
       "\n",
       "                                     Positive_Review  \\\n",
       "0   Only the park outside of the hotel was beauti...   \n",
       "1   No real complaints the hotel was great great ...   \n",
       "2   Location was good and staff were ok It is cut...   \n",
       "3   Great location in nice surroundings the bar a...   \n",
       "4    Amazing location and building Romantic setting    \n",
       "\n",
       "   Review_Total_Positive_Word_Counts  \\\n",
       "0                                 11   \n",
       "1                                105   \n",
       "2                                 21   \n",
       "3                                 26   \n",
       "4                                  8   \n",
       "\n",
       "   Total_Number_of_Reviews_Reviewer_Has_Given  Reviewer_Score  \\\n",
       "0                                           7             2.9   \n",
       "1                                           7             7.5   \n",
       "2                                           9             7.1   \n",
       "3                                           1             3.8   \n",
       "4                                           3             6.7   \n",
       "\n",
       "                                                Tags days_since_review  \\\n",
       "0  [' Leisure trip ', ' Couple ', ' Duplex Double...            0 days   \n",
       "1  [' Leisure trip ', ' Couple ', ' Duplex Double...            0 days   \n",
       "2  [' Leisure trip ', ' Family with young childre...            3 days   \n",
       "3  [' Leisure trip ', ' Solo traveler ', ' Duplex...            3 days   \n",
       "4  [' Leisure trip ', ' Couple ', ' Suite ', ' St...           10 days   \n",
       "\n",
       "         lat       lng  \n",
       "0  52.360576  4.915968  \n",
       "1  52.360576  4.915968  \n",
       "2  52.360576  4.915968  \n",
       "3  52.360576  4.915968  \n",
       "4  52.360576  4.915968  "
      ]
     },
     "execution_count": 2,
     "metadata": {},
     "output_type": "execute_result"
    }
   ],
   "source": [
    "all_reviews = pd.read_csv('Hotel_Reviews.csv')\n",
    "all_reviews.head(5)"
   ]
  },
  {
   "cell_type": "code",
   "execution_count": 3,
   "metadata": {},
   "outputs": [],
   "source": [
    "all_reviews_sample = all_reviews.sample(frac=0.05, replace=False, random_state=1)"
   ]
  },
  {
   "cell_type": "code",
   "execution_count": 4,
   "metadata": {},
   "outputs": [
    {
     "data": {
      "text/html": [
       "<div>\n",
       "<style scoped>\n",
       "    .dataframe tbody tr th:only-of-type {\n",
       "        vertical-align: middle;\n",
       "    }\n",
       "\n",
       "    .dataframe tbody tr th {\n",
       "        vertical-align: top;\n",
       "    }\n",
       "\n",
       "    .dataframe thead th {\n",
       "        text-align: right;\n",
       "    }\n",
       "</style>\n",
       "<table border=\"1\" class=\"dataframe\">\n",
       "  <thead>\n",
       "    <tr style=\"text-align: right;\">\n",
       "      <th></th>\n",
       "      <th>Positive_Review</th>\n",
       "      <th>Negative_Review</th>\n",
       "      <th>Reviewer_Score</th>\n",
       "      <th>Review_Polarity</th>\n",
       "    </tr>\n",
       "  </thead>\n",
       "  <tbody>\n",
       "    <tr>\n",
       "      <th>356054</th>\n",
       "      <td>Nothing was too much trouble The staff were a...</td>\n",
       "      <td>No Negative</td>\n",
       "      <td>10.0</td>\n",
       "      <td>1</td>\n",
       "    </tr>\n",
       "    <tr>\n",
       "      <th>395957</th>\n",
       "      <td>I loved there shower It felt like you were un...</td>\n",
       "      <td>I had a Junior suite The bed was only a queen...</td>\n",
       "      <td>10.0</td>\n",
       "      <td>1</td>\n",
       "    </tr>\n",
       "    <tr>\n",
       "      <th>468352</th>\n",
       "      <td>beds really comfy and the location is great a...</td>\n",
       "      <td>staff could be less rude the pool area is hor...</td>\n",
       "      <td>6.7</td>\n",
       "      <td>1</td>\n",
       "    </tr>\n",
       "    <tr>\n",
       "      <th>281462</th>\n",
       "      <td>Really nice hotel good facilities great staff...</td>\n",
       "      <td>No Negative</td>\n",
       "      <td>9.6</td>\n",
       "      <td>1</td>\n",
       "    </tr>\n",
       "    <tr>\n",
       "      <th>498978</th>\n",
       "      <td>Everything is super And room and design Very ...</td>\n",
       "      <td>No Negative</td>\n",
       "      <td>10.0</td>\n",
       "      <td>1</td>\n",
       "    </tr>\n",
       "  </tbody>\n",
       "</table>\n",
       "</div>"
      ],
      "text/plain": [
       "                                          Positive_Review  \\\n",
       "356054   Nothing was too much trouble The staff were a...   \n",
       "395957   I loved there shower It felt like you were un...   \n",
       "468352   beds really comfy and the location is great a...   \n",
       "281462   Really nice hotel good facilities great staff...   \n",
       "498978   Everything is super And room and design Very ...   \n",
       "\n",
       "                                          Negative_Review  Reviewer_Score  \\\n",
       "356054                                        No Negative            10.0   \n",
       "395957   I had a Junior suite The bed was only a queen...            10.0   \n",
       "468352   staff could be less rude the pool area is hor...             6.7   \n",
       "281462                                        No Negative             9.6   \n",
       "498978                                        No Negative            10.0   \n",
       "\n",
       "        Review_Polarity  \n",
       "356054                1  \n",
       "395957                1  \n",
       "468352                1  \n",
       "281462                1  \n",
       "498978                1  "
      ]
     },
     "execution_count": 4,
     "metadata": {},
     "output_type": "execute_result"
    }
   ],
   "source": [
    "all_reviews_sample['Review_Polarity'] = all_reviews_sample['Reviewer_Score'].apply(lambda x: 1 if x >= 5 else 0)\n",
    "review_content = all_reviews_sample[['Positive_Review', 'Negative_Review', 'Reviewer_Score', 'Review_Polarity']]\n",
    "review_content.head(5)"
   ]
  },
  {
   "cell_type": "code",
   "execution_count": 5,
   "metadata": {},
   "outputs": [
    {
     "data": {
      "text/plain": [
       "(25787, 4)"
      ]
     },
     "execution_count": 5,
     "metadata": {},
     "output_type": "execute_result"
    }
   ],
   "source": [
    "review_content.shape"
   ]
  },
  {
   "cell_type": "markdown",
   "metadata": {},
   "source": [
    "## Clean and Preprocess Data"
   ]
  },
  {
   "cell_type": "code",
   "execution_count": 6,
   "metadata": {},
   "outputs": [
    {
     "name": "stderr",
     "output_type": "stream",
     "text": [
      "/Users/shannywu/.local/share/virtualenvs/hotel-reviews-analysis-iubmQ_oi/lib/python3.6/site-packages/ipykernel_launcher.py:1: SettingWithCopyWarning: \n",
      "A value is trying to be set on a copy of a slice from a DataFrame.\n",
      "Try using .loc[row_indexer,col_indexer] = value instead\n",
      "\n",
      "See the caveats in the documentation: https://pandas.pydata.org/pandas-docs/stable/user_guide/indexing.html#returning-a-view-versus-a-copy\n",
      "  \"\"\"Entry point for launching an IPython kernel.\n",
      "/Users/shannywu/.local/share/virtualenvs/hotel-reviews-analysis-iubmQ_oi/lib/python3.6/site-packages/ipykernel_launcher.py:2: SettingWithCopyWarning: \n",
      "A value is trying to be set on a copy of a slice from a DataFrame.\n",
      "Try using .loc[row_indexer,col_indexer] = value instead\n",
      "\n",
      "See the caveats in the documentation: https://pandas.pydata.org/pandas-docs/stable/user_guide/indexing.html#returning-a-view-versus-a-copy\n",
      "  \n"
     ]
    },
    {
     "data": {
      "text/html": [
       "<div>\n",
       "<style scoped>\n",
       "    .dataframe tbody tr th:only-of-type {\n",
       "        vertical-align: middle;\n",
       "    }\n",
       "\n",
       "    .dataframe tbody tr th {\n",
       "        vertical-align: top;\n",
       "    }\n",
       "\n",
       "    .dataframe thead th {\n",
       "        text-align: right;\n",
       "    }\n",
       "</style>\n",
       "<table border=\"1\" class=\"dataframe\">\n",
       "  <thead>\n",
       "    <tr style=\"text-align: right;\">\n",
       "      <th></th>\n",
       "      <th>Positive_Review</th>\n",
       "      <th>Negative_Review</th>\n",
       "      <th>Reviewer_Score</th>\n",
       "      <th>Review_Polarity</th>\n",
       "    </tr>\n",
       "  </thead>\n",
       "  <tbody>\n",
       "    <tr>\n",
       "      <th>356054</th>\n",
       "      <td>Nothing was too much trouble The staff were a...</td>\n",
       "      <td></td>\n",
       "      <td>10.0</td>\n",
       "      <td>1</td>\n",
       "    </tr>\n",
       "    <tr>\n",
       "      <th>395957</th>\n",
       "      <td>I loved there shower It felt like you were un...</td>\n",
       "      <td>I had a Junior suite The bed was only a queen...</td>\n",
       "      <td>10.0</td>\n",
       "      <td>1</td>\n",
       "    </tr>\n",
       "    <tr>\n",
       "      <th>468352</th>\n",
       "      <td>beds really comfy and the location is great a...</td>\n",
       "      <td>staff could be less rude the pool area is hor...</td>\n",
       "      <td>6.7</td>\n",
       "      <td>1</td>\n",
       "    </tr>\n",
       "    <tr>\n",
       "      <th>281462</th>\n",
       "      <td>Really nice hotel good facilities great staff...</td>\n",
       "      <td></td>\n",
       "      <td>9.6</td>\n",
       "      <td>1</td>\n",
       "    </tr>\n",
       "    <tr>\n",
       "      <th>498978</th>\n",
       "      <td>Everything is super And room and design Very ...</td>\n",
       "      <td></td>\n",
       "      <td>10.0</td>\n",
       "      <td>1</td>\n",
       "    </tr>\n",
       "  </tbody>\n",
       "</table>\n",
       "</div>"
      ],
      "text/plain": [
       "                                          Positive_Review  \\\n",
       "356054   Nothing was too much trouble The staff were a...   \n",
       "395957   I loved there shower It felt like you were un...   \n",
       "468352   beds really comfy and the location is great a...   \n",
       "281462   Really nice hotel good facilities great staff...   \n",
       "498978   Everything is super And room and design Very ...   \n",
       "\n",
       "                                          Negative_Review  Reviewer_Score  \\\n",
       "356054                                                               10.0   \n",
       "395957   I had a Junior suite The bed was only a queen...            10.0   \n",
       "468352   staff could be less rude the pool area is hor...             6.7   \n",
       "281462                                                                9.6   \n",
       "498978                                                               10.0   \n",
       "\n",
       "        Review_Polarity  \n",
       "356054                1  \n",
       "395957                1  \n",
       "468352                1  \n",
       "281462                1  \n",
       "498978                1  "
      ]
     },
     "execution_count": 6,
     "metadata": {},
     "output_type": "execute_result"
    }
   ],
   "source": [
    "review_content['Positive_Review'] = review_content['Positive_Review'].apply(lambda review: review.replace('No Positive', ''))\n",
    "review_content['Negative_Review'] = review_content['Negative_Review'].apply(lambda review: review.replace('No Negative', ''))\n",
    "review_content.head(5)"
   ]
  },
  {
   "cell_type": "code",
   "execution_count": 7,
   "metadata": {},
   "outputs": [
    {
     "name": "stderr",
     "output_type": "stream",
     "text": [
      "[nltk_data] Downloading package wordnet to\n",
      "[nltk_data]     /Users/shannywu/nltk_data...\n",
      "[nltk_data]   Package wordnet is already up-to-date!\n"
     ]
    },
    {
     "data": {
      "text/plain": [
       "True"
      ]
     },
     "execution_count": 7,
     "metadata": {},
     "output_type": "execute_result"
    }
   ],
   "source": [
    "import nltk\n",
    "nltk.download('wordnet')"
   ]
  },
  {
   "cell_type": "code",
   "execution_count": 45,
   "metadata": {},
   "outputs": [],
   "source": [
    "import string\n",
    "from nltk import pos_tag as pos_tagger\n",
    "from nltk.corpus import stopwords\n",
    "from nltk.corpus import wordnet\n",
    "from nltk.tokenize import WhitespaceTokenizer\n",
    "from nltk.stem import WordNetLemmatizer"
   ]
  },
  {
   "cell_type": "code",
   "execution_count": 9,
   "metadata": {},
   "outputs": [],
   "source": [
    "def get_lower_text(text):\n",
    "    return text.lower()\n",
    "\n",
    "def tokenize_text(text):\n",
    "    return text.strip().split(' ')\n",
    "\n",
    "def remove_stop_words(text):\n",
    "    stop_words = stopwords.words('english')\n",
    "    return [word for word in text if word not in stop_words]\n",
    "\n",
    "def get_wordnet_pos(pos_tag):\n",
    "    if pos_tag.startswith('J'):\n",
    "        return wordnet.ADJ\n",
    "    elif pos_tag.startswith('V'):\n",
    "        return wordnet.VERB\n",
    "    elif pos_tag.startswith('N'):\n",
    "        return wordnet.NOUN\n",
    "    elif pos_tag.startswith('R'):\n",
    "        return wordnet.ADV\n",
    "    else:\n",
    "        return wordnet.NOUN\n",
    "\n",
    "def lemmatize_token(text_with_pos):\n",
    "    return [WordNetLemmatizer().lemmatize(token[0], get_wordnet_pos(token[1])) for token in text_with_pos]"
   ]
  },
  {
   "cell_type": "code",
   "execution_count": 46,
   "metadata": {},
   "outputs": [],
   "source": [
    "def clean_text(text):\n",
    "    if not isinstance(text, str):\n",
    "        return []\n",
    "\n",
    "    text = get_lower_text(text)\n",
    "    text = tokenize_text(text)\n",
    "    text = remove_stop_words(text)\n",
    "    text = [token for token in text if len(token) > 0]\n",
    "    pos_tags = pos_tagger(text)    \n",
    "    text = lemmatize_token(pos_tags)\n",
    "\n",
    "    return text"
   ]
  },
  {
   "cell_type": "code",
   "execution_count": 11,
   "metadata": {},
   "outputs": [
    {
     "data": {
      "text/plain": [
       "356054     Nothing was too much trouble The staff were a...\n",
       "395957     I loved there shower It felt like you were un...\n",
       "468352     beds really comfy and the location is great a...\n",
       "281462     Really nice hotel good facilities great staff...\n",
       "498978     Everything is super And room and design Very ...\n",
       "Name: Positive_Review, dtype: object"
      ]
     },
     "execution_count": 11,
     "metadata": {},
     "output_type": "execute_result"
    }
   ],
   "source": [
    "review_content['Positive_Review'].head(5)"
   ]
  },
  {
   "cell_type": "code",
   "execution_count": 12,
   "metadata": {},
   "outputs": [
    {
     "name": "stderr",
     "output_type": "stream",
     "text": [
      "/Users/shannywu/.local/share/virtualenvs/hotel-reviews-analysis-iubmQ_oi/lib/python3.6/site-packages/ipykernel_launcher.py:1: SettingWithCopyWarning: \n",
      "A value is trying to be set on a copy of a slice from a DataFrame.\n",
      "Try using .loc[row_indexer,col_indexer] = value instead\n",
      "\n",
      "See the caveats in the documentation: https://pandas.pydata.org/pandas-docs/stable/user_guide/indexing.html#returning-a-view-versus-a-copy\n",
      "  \"\"\"Entry point for launching an IPython kernel.\n",
      "/Users/shannywu/.local/share/virtualenvs/hotel-reviews-analysis-iubmQ_oi/lib/python3.6/site-packages/ipykernel_launcher.py:2: SettingWithCopyWarning: \n",
      "A value is trying to be set on a copy of a slice from a DataFrame.\n",
      "Try using .loc[row_indexer,col_indexer] = value instead\n",
      "\n",
      "See the caveats in the documentation: https://pandas.pydata.org/pandas-docs/stable/user_guide/indexing.html#returning-a-view-versus-a-copy\n",
      "  \n"
     ]
    },
    {
     "data": {
      "text/html": [
       "<div>\n",
       "<style scoped>\n",
       "    .dataframe tbody tr th:only-of-type {\n",
       "        vertical-align: middle;\n",
       "    }\n",
       "\n",
       "    .dataframe tbody tr th {\n",
       "        vertical-align: top;\n",
       "    }\n",
       "\n",
       "    .dataframe thead th {\n",
       "        text-align: right;\n",
       "    }\n",
       "</style>\n",
       "<table border=\"1\" class=\"dataframe\">\n",
       "  <thead>\n",
       "    <tr style=\"text-align: right;\">\n",
       "      <th></th>\n",
       "      <th>Positive_Review</th>\n",
       "      <th>Negative_Review</th>\n",
       "      <th>Reviewer_Score</th>\n",
       "      <th>Review_Polarity</th>\n",
       "      <th>Positive_Review_Clean</th>\n",
       "      <th>Negative_Review_Clean</th>\n",
       "    </tr>\n",
       "  </thead>\n",
       "  <tbody>\n",
       "    <tr>\n",
       "      <th>356054</th>\n",
       "      <td>Nothing was too much trouble The staff were a...</td>\n",
       "      <td></td>\n",
       "      <td>10.0</td>\n",
       "      <td>1</td>\n",
       "      <td>[nothing, much, trouble, staff, attentive, tim...</td>\n",
       "      <td>[]</td>\n",
       "    </tr>\n",
       "    <tr>\n",
       "      <th>395957</th>\n",
       "      <td>I loved there shower It felt like you were un...</td>\n",
       "      <td>I had a Junior suite The bed was only a queen...</td>\n",
       "      <td>10.0</td>\n",
       "      <td>1</td>\n",
       "      <td>[love, shower, felt, like, fire, hose, great, ...</td>\n",
       "      <td>[junior, suite, bed, queen, size, brother, get...</td>\n",
       "    </tr>\n",
       "    <tr>\n",
       "      <th>468352</th>\n",
       "      <td>beds really comfy and the location is great a...</td>\n",
       "      <td>staff could be less rude the pool area is hor...</td>\n",
       "      <td>6.7</td>\n",
       "      <td>1</td>\n",
       "      <td>[bed, really, comfy, location, great, also, ma...</td>\n",
       "      <td>[staff, could, less, rude, pool, area, horrible]</td>\n",
       "    </tr>\n",
       "    <tr>\n",
       "      <th>281462</th>\n",
       "      <td>Really nice hotel good facilities great staff...</td>\n",
       "      <td></td>\n",
       "      <td>9.6</td>\n",
       "      <td>1</td>\n",
       "      <td>[really, nice, hotel, good, facility, great, s...</td>\n",
       "      <td>[]</td>\n",
       "    </tr>\n",
       "    <tr>\n",
       "      <th>498978</th>\n",
       "      <td>Everything is super And room and design Very ...</td>\n",
       "      <td></td>\n",
       "      <td>10.0</td>\n",
       "      <td>1</td>\n",
       "      <td>[everything, super, room, design, clean, super]</td>\n",
       "      <td>[]</td>\n",
       "    </tr>\n",
       "  </tbody>\n",
       "</table>\n",
       "</div>"
      ],
      "text/plain": [
       "                                          Positive_Review  \\\n",
       "356054   Nothing was too much trouble The staff were a...   \n",
       "395957   I loved there shower It felt like you were un...   \n",
       "468352   beds really comfy and the location is great a...   \n",
       "281462   Really nice hotel good facilities great staff...   \n",
       "498978   Everything is super And room and design Very ...   \n",
       "\n",
       "                                          Negative_Review  Reviewer_Score  \\\n",
       "356054                                                               10.0   \n",
       "395957   I had a Junior suite The bed was only a queen...            10.0   \n",
       "468352   staff could be less rude the pool area is hor...             6.7   \n",
       "281462                                                                9.6   \n",
       "498978                                                               10.0   \n",
       "\n",
       "        Review_Polarity                              Positive_Review_Clean  \\\n",
       "356054                1  [nothing, much, trouble, staff, attentive, tim...   \n",
       "395957                1  [love, shower, felt, like, fire, hose, great, ...   \n",
       "468352                1  [bed, really, comfy, location, great, also, ma...   \n",
       "281462                1  [really, nice, hotel, good, facility, great, s...   \n",
       "498978                1    [everything, super, room, design, clean, super]   \n",
       "\n",
       "                                    Negative_Review_Clean  \n",
       "356054                                                 []  \n",
       "395957  [junior, suite, bed, queen, size, brother, get...  \n",
       "468352   [staff, could, less, rude, pool, area, horrible]  \n",
       "281462                                                 []  \n",
       "498978                                                 []  "
      ]
     },
     "execution_count": 12,
     "metadata": {},
     "output_type": "execute_result"
    }
   ],
   "source": [
    "review_content['Positive_Review_Clean'] = review_content['Positive_Review'].apply(lambda x: clean_text(x))\n",
    "review_content['Negative_Review_Clean'] = review_content['Negative_Review'].apply(lambda x: clean_text(x))\n",
    "\n",
    "review_content.head(5)"
   ]
  },
  {
   "cell_type": "code",
   "execution_count": 13,
   "metadata": {},
   "outputs": [
    {
     "data": {
      "text/plain": [
       "(25787, 6)"
      ]
     },
     "execution_count": 13,
     "metadata": {},
     "output_type": "execute_result"
    }
   ],
   "source": [
    "review_content.shape"
   ]
  },
  {
   "cell_type": "markdown",
   "metadata": {},
   "source": [
    "## Features"
   ]
  },
  {
   "cell_type": "code",
   "execution_count": 14,
   "metadata": {},
   "outputs": [],
   "source": [
    "from sklearn.feature_extraction.text import CountVectorizer"
   ]
  },
  {
   "cell_type": "markdown",
   "metadata": {},
   "source": [
    "1. most commom ngrams\n",
    "2. most common ngrams with specific words e.g., location, transportation, service, and staff."
   ]
  },
  {
   "cell_type": "code",
   "execution_count": 15,
   "metadata": {},
   "outputs": [],
   "source": [
    "from collections import Counter\n",
    "from nltk import ngrams"
   ]
  },
  {
   "cell_type": "code",
   "execution_count": 16,
   "metadata": {},
   "outputs": [],
   "source": [
    "def get_review_text_list(review_key):\n",
    "    review_text_list = list(review_content[review_key])\n",
    "    review_text_list = list(filter(lambda review: len(review) > 1, review_text_list))\n",
    "\n",
    "    return review_text_list"
   ]
  },
  {
   "cell_type": "code",
   "execution_count": 17,
   "metadata": {},
   "outputs": [],
   "source": [
    "neg_review_text_list = get_review_text_list('Negative_Review_Clean')\n",
    "pos_review_text_list = get_review_text_list('Positive_Review_Clean')"
   ]
  },
  {
   "cell_type": "code",
   "execution_count": 18,
   "metadata": {},
   "outputs": [
    {
     "data": {
      "text/plain": [
       "22473"
      ]
     },
     "execution_count": 18,
     "metadata": {},
     "output_type": "execute_result"
    }
   ],
   "source": [
    "len(pos_review_text_list)"
   ]
  },
  {
   "cell_type": "code",
   "execution_count": 52,
   "metadata": {},
   "outputs": [],
   "source": [
    "def get_ngram_with_specific_word(vocabs, specific_word):\n",
    "    words = {}\n",
    "    for ngram, count in vocabs.items():\n",
    "        if specific_word in ngram:\n",
    "            words[ngram] = count\n",
    "\n",
    "    return words"
   ]
  },
  {
   "cell_type": "code",
   "execution_count": 53,
   "metadata": {},
   "outputs": [],
   "source": [
    "def get_top_n_ngrams(review_text_list, ngram=2, top_n=10, specific_word=None):\n",
    "    joined_text = list(map(lambda x: ' '.join(x), review_text_list))\n",
    "    counter = CountVectorizer(\n",
    "        analyzer = 'word',\n",
    "        ngram_range=(ngram, ngram))\n",
    "    ngrams = counter.fit_transform(joined_text)\n",
    "    vocabs = counter.vocabulary_\n",
    "    counts = ngrams.toarray().sum(axis=0)\n",
    "    \n",
    "    if specific_word:\n",
    "        words = get_ngram_with_specific_word(vocabs, specific_word)\n",
    "    else:\n",
    "        words = vocabs\n",
    "\n",
    "    top_n_ngrams = [(ngram, counts[i]) for ngram, i in words.items()]\n",
    "    top_n_ngrams = sorted(top_n_ngrams, key=lambda x: x[1], reverse=True)[:top_n]\n",
    "    \n",
    "    return top_n_ngrams"
   ]
  },
  {
   "cell_type": "code",
   "execution_count": 21,
   "metadata": {},
   "outputs": [],
   "source": [
    "import matplotlib.pyplot as plt\n",
    "from wordcloud import WordCloud"
   ]
  },
  {
   "cell_type": "code",
   "execution_count": 22,
   "metadata": {},
   "outputs": [],
   "source": [
    "def generate_word_cloud(top_n_ngram_list):\n",
    "    text = ''\n",
    "    for ngram, cnt in top_n_ngram_list:\n",
    "        text += ngram + ' '\n",
    "    wordcloud = WordCloud(background_color='white').generate(text)\n",
    "    \n",
    "    return wordcloud"
   ]
  },
  {
   "cell_type": "code",
   "execution_count": 23,
   "metadata": {},
   "outputs": [
    {
     "data": {
      "text/plain": [
       "[('location hotel', 26),\n",
       " ('location far', 25),\n",
       " ('location bit', 25),\n",
       " ('location good', 23),\n",
       " ('good location', 20),\n",
       " ('location little', 18),\n",
       " ('hotel location', 18),\n",
       " ('great location', 16),\n",
       " ('location great', 15),\n",
       " ('due location', 11)]"
      ]
     },
     "execution_count": 23,
     "metadata": {},
     "output_type": "execute_result"
    }
   ],
   "source": [
    "neg_top_10_bigram_location = get_top_n_ngrams(neg_review_text_list, specific_word='location')\n",
    "neg_top_10_bigram_location"
   ]
  },
  {
   "cell_type": "code",
   "execution_count": 24,
   "metadata": {},
   "outputs": [
    {
     "data": {
      "image/png": "[encoded data removed]",
      "text/plain": [
       "<Figure size 432x288 with 1 Axes>"
      ]
     },
     "metadata": {
      "needs_background": "light"
     },
     "output_type": "display_data"
    }
   ],
   "source": [
    "neg_wordcloud_location = generate_word_cloud(neg_top_10_bigram_location)\n",
    "plt.imshow(neg_wordcloud_location)\n",
    "plt.axis(\"off\")\n",
    "plt.show()"
   ]
  },
  {
   "cell_type": "code",
   "execution_count": 25,
   "metadata": {
    "scrolled": true
   },
   "outputs": [
    {
     "data": {
      "text/plain": [
       "[('great location', 1456),\n",
       " ('good location', 1028),\n",
       " ('excellent location', 589),\n",
       " ('location great', 535),\n",
       " ('location good', 497),\n",
       " ('location excellent', 341),\n",
       " ('location perfect', 338),\n",
       " ('location staff', 318),\n",
       " ('perfect location', 309),\n",
       " ('location close', 293)]"
      ]
     },
     "execution_count": 25,
     "metadata": {},
     "output_type": "execute_result"
    }
   ],
   "source": [
    "pos_top_10_bigram_location = get_top_n_ngrams(pos_review_text_list, specific_word='location')\n",
    "pos_top_10_bigram_location"
   ]
  },
  {
   "cell_type": "code",
   "execution_count": 26,
   "metadata": {},
   "outputs": [
    {
     "data": {
      "image/png": "[encoded data removed]",
      "text/plain": [
       "<Figure size 432x288 with 1 Axes>"
      ]
     },
     "metadata": {
      "needs_background": "light"
     },
     "output_type": "display_data"
    }
   ],
   "source": [
    "pos_wordcloud_location = generate_word_cloud(pos_top_10_bigram_location)\n",
    "plt.imshow(pos_wordcloud_location)\n",
    "plt.axis(\"off\")\n",
    "plt.show()"
   ]
  },
  {
   "cell_type": "code",
   "execution_count": 28,
   "metadata": {},
   "outputs": [],
   "source": [
    "from collections import defaultdict"
   ]
  },
  {
   "cell_type": "code",
   "execution_count": 63,
   "metadata": {},
   "outputs": [],
   "source": [
    "def get_coexist_words(ngrams, specific_word, pos_tag):\n",
    "    result = defaultdict(int)\n",
    "    for ngram, cnt in ngrams:\n",
    "        ngram = ngram.split(' ')\n",
    "        ngram_with_pos_tag = pos_tagger(ngram)\n",
    "        for word, pos in ngram_with_pos_tag:\n",
    "            if word != specific_word and pos == pos_tag:\n",
    "                result[word] += cnt\n",
    "                continue\n",
    "    return result"
   ]
  },
  {
   "cell_type": "code",
   "execution_count": 49,
   "metadata": {},
   "outputs": [
    {
     "data": {
      "text/plain": [
       "defaultdict(int,\n",
       "            {'great': 1991, 'good': 1028, 'excellent': 589, 'perfect': 309})"
      ]
     },
     "execution_count": 49,
     "metadata": {},
     "output_type": "execute_result"
    }
   ],
   "source": [
    "sw = 'location'\n",
    "get_coexist_words(pos_top_10_bigram_location, sw, 'JJ')"
   ]
  },
  {
   "cell_type": "code",
   "execution_count": 50,
   "metadata": {},
   "outputs": [
    {
     "data": {
      "text/plain": [
       "defaultdict(int, {'good': 20, 'little': 18, 'great': 31, 'due': 11})"
      ]
     },
     "execution_count": 50,
     "metadata": {},
     "output_type": "execute_result"
    }
   ],
   "source": [
    "get_coexist_words(neg_top_10_bigram_location, sw, 'JJ')"
   ]
  },
  {
   "cell_type": "code",
   "execution_count": 54,
   "metadata": {},
   "outputs": [
    {
     "data": {
      "text/plain": [
       "[('great location', 1456),\n",
       " ('location great', 535),\n",
       " ('staff great', 387),\n",
       " ('great staff', 270),\n",
       " ('room great', 269),\n",
       " ('hotel great', 268),\n",
       " ('great breakfast', 229),\n",
       " ('great hotel', 195),\n",
       " ('great room', 169),\n",
       " ('breakfast great', 165)]"
      ]
     },
     "execution_count": 54,
     "metadata": {},
     "output_type": "execute_result"
    }
   ],
   "source": [
    "pos_top_10_bigram_great = get_top_n_ngrams(pos_review_text_list, specific_word='great')\n",
    "pos_top_10_bigram_great"
   ]
  },
  {
   "cell_type": "code",
   "execution_count": 55,
   "metadata": {},
   "outputs": [
    {
     "data": {
      "text/plain": [
       "defaultdict(int,\n",
       "            {'location': 1991,\n",
       "             'staff': 657,\n",
       "             'room': 438,\n",
       "             'hotel': 463,\n",
       "             'breakfast': 394})"
      ]
     },
     "execution_count": 55,
     "metadata": {},
     "output_type": "execute_result"
    }
   ],
   "source": [
    "get_coexist_words(pos_top_10_bigram_great, 'great', 'NN')"
   ]
  },
  {
   "cell_type": "code",
   "execution_count": 61,
   "metadata": {},
   "outputs": [
    {
     "data": {
      "text/plain": [
       "[('room awful', 14),\n",
       " ('breakfast awful', 7),\n",
       " ('pillow awful', 5),\n",
       " ('bed awful', 4),\n",
       " ('awful room', 4),\n",
       " ('smell awful', 3),\n",
       " ('shower awful', 3),\n",
       " ('awful breakfast', 3),\n",
       " ('awful small', 3),\n",
       " ('awful coffee', 3)]"
      ]
     },
     "execution_count": 61,
     "metadata": {},
     "output_type": "execute_result"
    }
   ],
   "source": [
    "neg_top_10_bigram = get_top_n_ngrams(neg_review_text_list, specific_word='awful')\n",
    "neg_top_10_bigram"
   ]
  },
  {
   "cell_type": "code",
   "execution_count": 62,
   "metadata": {},
   "outputs": [
    {
     "data": {
      "text/plain": [
       "defaultdict(int,\n",
       "            {'room': 18,\n",
       "             'breakfast': 10,\n",
       "             'pillow': 5,\n",
       "             'bed': 4,\n",
       "             'smell': 3,\n",
       "             'shower': 3,\n",
       "             'coffee': 3})"
      ]
     },
     "execution_count": 62,
     "metadata": {},
     "output_type": "execute_result"
    }
   ],
   "source": [
    "get_coexist_words(neg_top_10_bigram, 'awful', 'NN')"
   ]
  },
  {
   "cell_type": "code",
   "execution_count": null,
   "metadata": {},
   "outputs": [],
   "source": []
  }
 ],
 "metadata": {
  "kernelspec": {
   "display_name": "hotel-reviews",
   "language": "python",
   "name": "hotel-reviews"
  },
  "language_info": {
   "codemirror_mode": {
    "name": "ipython",
    "version": 3
   },
   "file_extension": ".py",
   "mimetype": "text/x-python",
   "name": "python",
   "nbconvert_exporter": "python",
   "pygments_lexer": "ipython3",
   "version": "3.6.5"
  }
 },
 "nbformat": 4,
 "nbformat_minor": 2
}
